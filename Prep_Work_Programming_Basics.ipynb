{
  "nbformat": 4,
  "nbformat_minor": 0,
  "metadata": {
    "colab": {
      "provenance": []
    },
    "kernelspec": {
      "name": "python3",
      "display_name": "Python 3"
    },
    "language_info": {
      "name": "python"
    }
  },
  "cells": [
    {
      "cell_type": "markdown",
      "source": [
        "## Colab\n",
        "\n",
        "Colaboratory, often shortened to \"Colab\", is a product of Google Research. Colab allows anyone to write and execute Python code of their choice through the browser.\n",
        "\n",
        "\n",
        "## Python\n",
        "\n",
        "Python is a high-level, general-purpose programming language. Its design philosophy emphasizes code readability with the use of significant indentation.\n",
        "\n"
      ],
      "metadata": {
        "id": "udZqI4kdx6p2"
      }
    },
    {
      "cell_type": "markdown",
      "source": [
        "\"Hello World!\" is traditionally the first program written by developers, whether they're setting up a Flask web app or a program in Google Colab, for the following reasons:\n",
        "\n",
        "1. **Simplicity**: It offers a straightforward introduction to the language's syntax.\n",
        "2. **Verification**: It confirms the development environment is set up correctly.\n",
        "3. **Tradition**: It's a rite of passage in the programming community.\n",
        "4. **Instant Gratification**: Seeing output gives beginners immediate feedback.\n",
        "5. **Focus**: It allows concentration on basic language structure without the distraction of complex functionalities.\n",
        "\n",
        "In essence, \"Hello World!\" serves as both a learning tool and a developmental checkpoint."
      ],
      "metadata": {
        "id": "nYYW0yL9vsBT"
      }
    },
    {
      "cell_type": "code",
      "source": [
        "\"Hello World !\""
      ],
      "metadata": {
        "id": "v3Nmasugx5Ln"
      },
      "execution_count": null,
      "outputs": []
    },
    {
      "cell_type": "markdown",
      "source": [
        "### Control Flow\n",
        "\n",
        "Control flow in programming refers to the order in which individual statements, instructions, or function calls are executed within a program. I\n",
        "\n",
        "\n",
        "https://docs.python.org/3/tutorial/controlflow.html\n",
        "- Top to bottom\n",
        "- Line-by-line"
      ],
      "metadata": {
        "id": "CnaZhB2h6Voj"
      }
    },
    {
      "cell_type": "code",
      "source": [
        "\"first line\"\n",
        "print(\"second line\") # comment 1\n",
        "\"third line\""
      ],
      "metadata": {
        "id": "DrYdrqdydDPj"
      },
      "execution_count": null,
      "outputs": []
    },
    {
      "cell_type": "markdown",
      "source": [
        "The string \"first line\" is the initial line, though it has no effect since it's not assigned to any variable or used in any function.\n",
        "\n",
        "Next, the print function outputs \"second line\" to the console.\n",
        "The comment following this line, # comment 1, is ignored by the interpreter.\n",
        "\n",
        "Finally, \"third line\" is also processed, and, **unlike typical Python scripts**, it will be displayed in the output cell because **Google Colab shows the result of the last expression in each cell**."
      ],
      "metadata": {
        "id": "28CVF2PRwDWM"
      }
    },
    {
      "cell_type": "markdown",
      "source": [
        "###  Control Flow Exercise\n",
        "Given the concept of control flow, it's essential to understand how Python reads and executes scripts. Python executes the lines of code sequentially, starting from the top and moving to the bottom, one line at a time.\n",
        "\n",
        "**Instructions:**\n",
        "1. Observe the code block provided below.\n",
        "2. Predict the output of the code without running it.\n",
        "3. After making your prediction, run the code to check if you were correct.\n",
        "4. Explain the reason for each line's output or non-output."
      ],
      "metadata": {
        "id": "xhuHGip6GwXT"
      }
    },
    {
      "cell_type": "code",
      "source": [
        "\"Welcome to control flow understanding\"\n",
        "\n",
        "x = 13\n",
        "print(\"The value of x is:\", x)\n",
        "\n",
        "\"End of exercise\""
      ],
      "metadata": {
        "id": "z7xuWJb2G5Mx"
      },
      "execution_count": null,
      "outputs": []
    },
    {
      "cell_type": "markdown",
      "source": [
        "### Types\n",
        "\n",
        "The type() function in Python is used to determine the datatype of a given object. In the provided code, type() is applied to various objects, ranging from strings and numbers to lists and dictionaries, to reveal their inherent datatypes. By examining the results, one can understand the nature of each object within the Python language."
      ],
      "metadata": {
        "id": "CEQEkv3pyLYk"
      }
    },
    {
      "cell_type": "code",
      "source": [
        "type(\"Nao School\")\n",
        "type(42)\n",
        "type(3.14)\n",
        "\n",
        "type(True)\n",
        "type(None)\n",
        "\n",
        "type([\"Data\", \"Programming\", \"AI\"])\n",
        "type({\"Data\" : \"SQL, Pandas, ...\", \"Programming\" : \"Python, JS, ...\", \"AI\" : \"Computer Vision, NLP, ...\"})"
      ],
      "metadata": {
        "colab": {
          "base_uri": "https://localhost:8080/"
        },
        "id": "bU3zxTxlyLmJ",
        "outputId": "3f38753c-02b3-4b34-e89e-4b6bdac0735b"
      },
      "execution_count": null,
      "outputs": [
        {
          "output_type": "execute_result",
          "data": {
            "text/plain": [
              "dict"
            ]
          },
          "metadata": {},
          "execution_count": 1
        }
      ]
    },
    {
      "cell_type": "markdown",
      "source": [
        "### Variables\n",
        "\n",
        "In Python, a variable serves as a named reference to data. Think of it as a label on a jar, where the jar can contain anything from numbers to text, and you refer to its content using the label.\n",
        "\n",
        "**Initialization**: This is the process of first assigning a value to a variable."
      ],
      "metadata": {
        "id": "YD4rmnTi1RVF"
      }
    },
    {
      "cell_type": "markdown",
      "source": [
        "**⚠️ Regarding variable naming ⚠️**\n",
        "\n",
        "**snake_case**: Python typically uses snake_case for variable names, where words are lowercase and separated by underscores.\n",
        "\n",
        "**Constants**: While Python doesn't have built-in constant types, by convention, names that are intended to be constants are written in all uppercase letters, separated by underscores."
      ],
      "metadata": {
        "id": "Jk1jaXGsxiN_"
      }
    },
    {
      "cell_type": "code",
      "source": [
        "# variable assignment\n",
        "name = \"Nao\"\n",
        "\n",
        "# constant\n",
        "PI = 3.14"
      ],
      "metadata": {
        "id": "w91fjhNC1TgJ"
      },
      "execution_count": null,
      "outputs": []
    },
    {
      "cell_type": "markdown",
      "source": [
        "**Swap**: In Python, swapping values between two variables can be done seamlessly."
      ],
      "metadata": {
        "id": "sZp4d9qExZG0"
      }
    },
    {
      "cell_type": "code",
      "source": [
        "first_num = 3\n",
        "second_num = 4\n",
        "first_num, second_num = second_num, first_num"
      ],
      "metadata": {
        "id": "UxGnstUmxbsE"
      },
      "execution_count": null,
      "outputs": []
    },
    {
      "cell_type": "markdown",
      "source": [
        "Strings and the CRUD (Create, Read, Update, Delete) framework"
      ],
      "metadata": {
        "id": "-DlMLDOmyQwS"
      }
    },
    {
      "cell_type": "code",
      "source": [
        "name_of_my_variable = \"I love\" # create\n",
        "name_of_my_variable = name_of_my_variable + \" name_of_my_variable\" # update - concatenation\n",
        "print(name_of_my_variable) # read\n",
        "name_of_my_variable = None # deleta"
      ],
      "metadata": {
        "id": "UMuF7VBSdZ0R"
      },
      "execution_count": null,
      "outputs": []
    },
    {
      "cell_type": "markdown",
      "source": [
        "### Exercise\n",
        "\n",
        "**Questions:**\n",
        "1. What do you expect to see as the output of the code block bellow?\n",
        "2. Which lines will not produce any visible effect when the code is executed? Why?\n",
        "3. Explain the purpose of the print function in the context of control flow."
      ],
      "metadata": {
        "id": "Jo2uKSYWHULV"
      }
    },
    {
      "cell_type": "code",
      "source": [
        "\"Welcome to control flow understanding\"\n",
        "\n",
        "x = 10\n",
        "y = x + 5\n",
        "print(\"The value of y is:\", y)\n",
        "\n",
        "\"End of exercise\""
      ],
      "metadata": {
        "id": "vI_DSubhHVdp"
      },
      "execution_count": null,
      "outputs": []
    },
    {
      "cell_type": "markdown",
      "source": [
        "### F-String\n",
        "\n",
        "While string concatenation using the `+` operator is straightforward, it can become cumbersome and less readable when dealing with multiple variables and longer strings.\n",
        "\n",
        "We prefer to use f-strings (formatted string literals).\n",
        "which provide a concise way to embed expressions inside string literals."
      ],
      "metadata": {
        "id": "aHx_QCtJ1gK1"
      }
    },
    {
      "cell_type": "code",
      "source": [
        "sentence = f\"This is the {name} School !\""
      ],
      "metadata": {
        "id": "0qKp_pyc1hkC"
      },
      "execution_count": null,
      "outputs": []
    },
    {
      "cell_type": "markdown",
      "source": [
        "### Casting\n",
        "\n",
        "**Casting** refers to the process of converting a value from one data type to another. In Python, built-in functions like `int()`, `str()`, `float()`, etc., are commonly used to perform these type conversions."
      ],
      "metadata": {
        "id": "h1PedAyn10nL"
      }
    },
    {
      "cell_type": "code",
      "source": [
        "type(int(\"2023\"))"
      ],
      "metadata": {
        "id": "oePbDfU412Fi"
      },
      "execution_count": null,
      "outputs": []
    },
    {
      "cell_type": "markdown",
      "source": [
        "### F-Strings Exercise\n",
        "\n",
        "**Task:** Using f-strings, create a sentence that reads: \"Anna is a 25 years old engineer.\""
      ],
      "metadata": {
        "id": "MEjmec4lHoEk"
      }
    },
    {
      "cell_type": "code",
      "source": [
        "name = \"Anna\"\n",
        "age = 25\n",
        "profession = \"engineer\""
      ],
      "metadata": {
        "id": "HMIAiGfEH5UH"
      },
      "execution_count": null,
      "outputs": []
    },
    {
      "cell_type": "markdown",
      "source": [
        "### Arithmetic Operators"
      ],
      "metadata": {
        "id": "fhjYbUg6184m"
      }
    },
    {
      "cell_type": "code",
      "source": [
        "3 + 2 # => 5 (Addition)\n",
        "2 - 3 # => -1 (Substraction)\n",
        "2 * 3 # => 6 (Multiplication)\n",
        "5 / 2 # => 2.5 (Division)\n",
        "5 // 2 # => 2 (Floor division)\n",
        "5 % 2 # => 1 (Modulus)\n",
        "2 ** 3 # => 8 (Exponent)"
      ],
      "metadata": {
        "id": "vUAGxBLf19BQ"
      },
      "execution_count": null,
      "outputs": []
    },
    {
      "cell_type": "markdown",
      "source": [
        "## Arithmetic Operators Exercise\n",
        "\n",
        "1. **Addition and Subtraction:** Calculate the area of the garden.\n",
        "\n",
        "2. **Modulus:** If you plant a tree every 3 meters along the width of the garden, how many meters will be left after you plant the last tree?"
      ],
      "metadata": {
        "id": "gjfPokj6IMQO"
      }
    },
    {
      "cell_type": "code",
      "source": [
        "# Given data\n",
        "length_garden = 30\n",
        "width_garden = 20\n",
        "\n",
        "# Task 1\n",
        "area_garden = # TODO\n",
        "\n",
        "# Task 2\n",
        "trees_space = # TODO\n",
        "\n",
        "print(f\"Area of garden: {area_garden} m^2\")\n",
        "print(f\"Meters left after planting trees: {trees_space} m\")"
      ],
      "metadata": {
        "id": "6TldZtNZIjeA"
      },
      "execution_count": null,
      "outputs": []
    },
    {
      "cell_type": "markdown",
      "source": [
        "### Self-Correcting Python Exercises with ChatGPT\n",
        "\n",
        "**Understanding the Problem:**\n",
        "\n",
        "If you're struggling to understand what an exercise is asking or need clarity on certain Python concepts, type out your question and ask ChatGPT. It can provide explanations, examples, and even resources to help deepen your understanding.\n",
        "\n",
        "**Debugging Code:**\n",
        "If your code isn't working as expected, you can share the problematic part of your code with ChatGPT. It can help identify where the issue might be.\n",
        "Describe the expected outcome versus what you're currently observing. The more specific you are, the better the feedback you'll receive.\n",
        "\n",
        "**Code Optimization:**\n",
        "If you believe your code works but feels it's not optimal or could be written in a more Pythonic way, ChatGPT can suggest improvements or alternative methods.\n",
        "\n",
        "**Validation:**\n",
        "If you're unsure about the correctness of your solution, you can share your approach and code with ChatGPT. It can validate your approach or provide corrections if needed.\n",
        "Engage Actively:\n",
        "\n",
        "**In Practice:**\n",
        "Simply type your question or share your code snippet in a conversation with ChatGPT. For example:\n",
        "\n",
        "\n",
        "`\"Hi ChatGPT, I'm having trouble with this exercise about list comprehensions. Here's my code: [code snippet]. It's supposed to [expected outcome], but instead, it's [actual outcome]. Can you help?\"`\n",
        "\n",
        "By actively engaging with ChatGPT and seeking to understand the underlying concepts, you'll find it a valuable tool in your Python learning journey."
      ],
      "metadata": {
        "id": "R07XmGgEOQLJ"
      }
    },
    {
      "cell_type": "markdown",
      "source": [
        "### Built-in Functions"
      ],
      "metadata": {
        "id": "RDnLStJj2e9q"
      }
    },
    {
      "cell_type": "code",
      "source": [
        "print(\"Hello\")\n",
        "\n",
        "round(3.1415, 2) # => 3.14\n",
        "min(3, 5) # => 3\n",
        "max(3, 5) # => 5\n",
        "abs(-3) # => 3\n",
        "\n",
        "age = input(\"How old are you?\")\n",
        "f\"Wow, you have {int(age)} year old!\""
      ],
      "metadata": {
        "id": "1OHQNGy12jrA"
      },
      "execution_count": null,
      "outputs": []
    },
    {
      "cell_type": "markdown",
      "source": [
        "### Future Age Calculation Exercise\n",
        "In daily interactions, we often talk about our age, our birthdays, and what our age will be in the future. Python can help us do these calculations with ease. In this exercise, you will determine your age next year based on your current age.\n",
        "\n",
        "**Tasks:**\n",
        "1. Prompt the user to enter their current age.\n",
        "2. Convert the input, which is a string, into an integer.\n",
        "3. Calculate the age they will be next year.\n",
        "4. Display the results to the user."
      ],
      "metadata": {
        "id": "A6jX425UKdBe"
      }
    },
    {
      "cell_type": "code",
      "source": [
        "# TODO"
      ],
      "metadata": {
        "id": "_6j2vkI0KdM2"
      },
      "execution_count": null,
      "outputs": []
    },
    {
      "cell_type": "markdown",
      "source": [
        "### Mathematical Functions\n",
        "\n",
        "Documentation: https://docs.python.org/3/library/math.html"
      ],
      "metadata": {
        "id": "EO4gsA9n2yHH"
      }
    },
    {
      "cell_type": "code",
      "source": [
        "import math # import the module\n",
        "\n",
        "math.floor(3.14) # => 3.0\n",
        "math.ceil(3.14) # => 4.0\n",
        "math.factorial(5) # => 120"
      ],
      "metadata": {
        "id": "K9qq0qI23Osn"
      },
      "execution_count": null,
      "outputs": []
    },
    {
      "cell_type": "markdown",
      "source": [
        "### Date\n",
        "\n",
        "Documentation: https://docs.python.org/3/library/datetime.html"
      ],
      "metadata": {
        "id": "Av7yJuwb3l3n"
      }
    },
    {
      "cell_type": "code",
      "source": [
        "import datetime\n",
        "\n",
        "today = datetime.date.today()\n",
        "print(today)\n",
        "\n",
        "# date object from a string\n",
        "day = datetime.date.fromisoformat(\"2023-01-18\")\n",
        "day.month\n",
        "\n",
        "day.strftime(\"%A %B %d, %Y\")"
      ],
      "metadata": {
        "colab": {
          "base_uri": "https://localhost:8080/",
          "height": 52
        },
        "id": "d0RckZlg3mEA",
        "outputId": "1c2ebbb3-4fe8-48b7-a178-d044b67fb44d"
      },
      "execution_count": null,
      "outputs": [
        {
          "output_type": "stream",
          "name": "stdout",
          "text": [
            "2023-01-18\n"
          ]
        },
        {
          "output_type": "execute_result",
          "data": {
            "text/plain": [
              "'Wednesday January 18, 2023'"
            ],
            "application/vnd.google.colaboratory.intrinsic+json": {
              "type": "string"
            }
          },
          "metadata": {},
          "execution_count": 4
        }
      ]
    },
    {
      "cell_type": "markdown",
      "source": [
        "### Date Handling with 'datetime' Exercise\n",
        "\n",
        "**Tasks:**\n",
        "1. Current Date: Import the datetime module and print the current date.\n",
        "2. Birthday Calculation: Given a user's birthdate in ISO format (e.g., \"1995-08-25\"), calculate and display:\n",
        "The day of the week they were born.\n",
        "How old they are in years.\n",
        "How many days until their next birthday.\n",
        "3. Formatting Date: Display a given date in the format: \"Wednesday August 25, 1995\"."
      ],
      "metadata": {
        "id": "Zfne1Oj0KN_o"
      }
    },
    {
      "cell_type": "code",
      "source": [
        "# TODO"
      ],
      "metadata": {
        "id": "MOHFYXFZKOS-"
      },
      "execution_count": null,
      "outputs": []
    },
    {
      "cell_type": "markdown",
      "source": [
        "### Conditions\n",
        "\n",
        "<b> Operators </b>\n",
        "https://docs.python.org/3/library/operator.html\n",
        "\n",
        "\n",
        "- `and`\n",
        "- `or`\n",
        "- `not`\n",
        "- `==`\n",
        "- `!=`\n",
        "- `>`\n",
        "- `>=`\n",
        "- `<`\n",
        "- `<=`\n",
        "\n",
        "\n",
        "### Conditional Statements\n",
        "Using if, elif, and else, you can execute specific blocks of code based on conditions:"
      ],
      "metadata": {
        "id": "SW72P5KF6kDC"
      }
    },
    {
      "cell_type": "code",
      "source": [
        "age = 19\n",
        "\n",
        "if age >= 21:\n",
        "  print(\"You can vote\")\n",
        "elif age < 21 and age >= 18:\n",
        "  print(\"Depends your nationality\")\n",
        "else:\n",
        "  print(\"You can't vote\")"
      ],
      "metadata": {
        "id": "F4868K_36jda"
      },
      "execution_count": null,
      "outputs": []
    },
    {
      "cell_type": "markdown",
      "source": [
        "### User Input and Casting Exercise\n",
        "A cafe is running a promotional offer. For every purchase above a certain amount, customers receive a discount. In this exercise, you'll help the cafe process these discounts by accepting user input and using type casting.\n",
        "\n",
        "**Scenario:**\n",
        "Customers receive a 10% discount on their total bill if their purchase exceeds $50.\n",
        "\n",
        "**Tasks:**\n",
        "1. User Input: Prompt the user to enter the total amount of their purchase.\n",
        "2. Casting: Convert this user input (which is a string) into a float.\n",
        "3. Calculation: If the amount exceeds $50, apply a 10% discount. Display the original and the discounted amount."
      ],
      "metadata": {
        "id": "RwD95hDWJgpS"
      }
    },
    {
      "cell_type": "code",
      "source": [
        "# TODO"
      ],
      "metadata": {
        "id": "sdzBbuo9JoEo"
      },
      "execution_count": null,
      "outputs": []
    },
    {
      "cell_type": "markdown",
      "source": [
        "### Functions\n",
        "\n",
        "https://docs.python.org/3/tutorial/controlflow.html#defining-functions\n",
        "\n",
        "- Refactoring\n",
        "- Don't Repeat Yourself"
      ],
      "metadata": {
        "id": "lud7vphH7usA"
      }
    },
    {
      "cell_type": "code",
      "source": [
        "# defining a function\n",
        "def vote(age): # age is a parameter\n",
        "  if age >= 21:\n",
        "    print(\"You can vote\")\n",
        "  elif age < 21 and age >= 18:\n",
        "    print(\"Depends your nationality\")\n",
        "  else:\n",
        "    print(\"You can't vote\")\n",
        "\n",
        "# calling the function\n",
        "vote(15) # we call the function passing arguments"
      ],
      "metadata": {
        "id": "ZUBLZUJ97u6F"
      },
      "execution_count": null,
      "outputs": []
    },
    {
      "cell_type": "markdown",
      "source": [
        "### Function Exercise: Movie Theater Access\n",
        "Many movie theaters have age restrictions based on the type of movies being shown. Using functions, determine if a person can watch a specific type of movie.\n",
        "\n",
        "**Scenario:**\n",
        "*   Children movies: Anyone can watch.\n",
        "*   Teen movies: Only those 13 and older can watch.\n",
        "*  Adult movies: Only those 18 and older can watch.\n",
        "\n",
        "\n",
        "**Tasks:**\n",
        "1. Define a function named movie_access that takes two parameters - age and movie_type.\n",
        "2. Inside the function, use conditional statements to determine if the person can watch the movie.\n",
        "3. Call the function with different ages and movie types to test its functionality."
      ],
      "metadata": {
        "id": "BkLXnW60K3pV"
      }
    },
    {
      "cell_type": "code",
      "source": [
        "# TODO"
      ],
      "metadata": {
        "id": "uET0GMVLK30T"
      },
      "execution_count": null,
      "outputs": []
    },
    {
      "cell_type": "markdown",
      "source": [
        "### List\n",
        "\n",
        "https://docs.python.org/fr/3/tutorial/datastructures.html"
      ],
      "metadata": {
        "id": "L31Np65SOiUP"
      }
    },
    {
      "cell_type": "code",
      "source": [
        "lessons = [\"data\", \"programming\", \"AI\"]\n",
        "\n",
        "lessons.append(\"soft skills\") # Create\n",
        "lessons[0] # Read\n",
        "lessons[2] = \"Artificial Intelligence\" # Update\n",
        "del lessons[-1] # Delete"
      ],
      "metadata": {
        "id": "yLlEkdCAOlPg"
      },
      "execution_count": null,
      "outputs": []
    },
    {
      "cell_type": "markdown",
      "source": [
        "### List Operations Exercise: Bookshelf\n",
        "\n",
        "You have a bookshelf with a few books. We will represent the bookshelf as a list. Your task is to perform various operations like adding, reading, updating, and removing books from this shelf.\n",
        "\n",
        "**Initial Bookshelf:**\n",
        "bookshelf = [\"The Alchemist\", \"1984\", \"Moby Dick\", \"War and Peace\"]\n",
        "\n",
        "**Tasks:**\n",
        "1. Add a Book: Add \"To Kill a Mockingbird\" to your bookshelf.\n",
        "2. Read a Book: Display the third book on the shelf.\n",
        "3. Update a Book: Replace \"Moby Dick\" with \"Pride and Prejudice\".\n",
        "4. Remove a Book: Remove the last book on the bookshelf."
      ],
      "metadata": {
        "id": "lPt8U4RgLTeu"
      }
    },
    {
      "cell_type": "code",
      "source": [
        "# TODO"
      ],
      "metadata": {
        "id": "sdIm4u4RLTuP"
      },
      "execution_count": null,
      "outputs": []
    },
    {
      "cell_type": "markdown",
      "source": [
        "### Tuple\n",
        "\n"
      ],
      "metadata": {
        "id": "hG4Rns8MO_bG"
      }
    },
    {
      "cell_type": "code",
      "source": [
        "(1, \"un\", 1.0)"
      ],
      "metadata": {
        "colab": {
          "base_uri": "https://localhost:8080/"
        },
        "id": "x7Axp6lTPA6O",
        "outputId": "b8eb9a99-e3b9-431f-b410-fd46bf14a089"
      },
      "execution_count": null,
      "outputs": [
        {
          "output_type": "execute_result",
          "data": {
            "text/plain": [
              "(1, 'un', 1.0)"
            ]
          },
          "metadata": {},
          "execution_count": 1
        }
      ]
    },
    {
      "cell_type": "markdown",
      "source": [
        "### Dictionary"
      ],
      "metadata": {
        "id": "ljOLONtoZ-_u"
      }
    },
    {
      "cell_type": "code",
      "source": [
        "my_dict = {\n",
        "    \"Data\" : \"SQL, Pandas, ...\",\n",
        "    \"Programming\" : \"Python, JS, ...\",\n",
        "    \"AI\" : \"Computer Vision, NLP, ...\"\n",
        "}\n",
        "\n",
        "my_dict[\"Soft Skills\"] = \"Negociation, Resume, ...\" # Create / Update\n",
        "my_dict[\"Soft Skills\"] # Read\n",
        "print(my_dict.get(\"Soft Skills\")) # Read\n",
        "del my_dict[\"Soft Skills\"] # Delete\n",
        "print(my_dict.get(\"Soft Skills\")) # Read"
      ],
      "metadata": {
        "colab": {
          "base_uri": "https://localhost:8080/"
        },
        "id": "sJODOwqRaAp_",
        "outputId": "8bae5c09-8a87-44d2-fb38-f153f1c4a08c"
      },
      "execution_count": null,
      "outputs": [
        {
          "output_type": "stream",
          "name": "stdout",
          "text": [
            "Negociation, Resume, ...\n",
            "None\n"
          ]
        }
      ]
    },
    {
      "cell_type": "markdown",
      "source": [
        "### Dictionary Exercise: Movie Database\n",
        "**Scenario:** Imagine you're creating a simple movie database where each movie has a title, director, release year, and a list of main actors. Your task will be to perform several operations on this database.\n",
        "\n",
        "Initial Database:\n",
        "\n",
        "```\n",
        "movies = {\n",
        "    \"The Matrix\": {\"director\": \"Wachowski Brothers\", \"year\": 1999, \"actors\": [\"Keanu Reeves\", \"Laurence Fishburne\", \"Carrie-Anne Moss\"]},\n",
        "    \"Inception\": {\"director\": \"Christopher Nolan\", \"year\": 2010, \"actors\": [\"Leonardo DiCaprio\", \"Joseph Gordon-Levitt\", \"Ellen Page\"]},\n",
        "    \"The Shawshank Redemption\": {\"director\": \"Frank Darabont\", \"year\": 1994, \"actors\": [\"Tim Robbins\", \"Morgan Freeman\"]}\n",
        "}\n",
        "```\n",
        "\n",
        "\n",
        "**Tasks:**\n",
        "1. Add a Movie: Add \"Interstellar\" directed by \"Christopher Nolan\", released in 2014, with main actors \"Matthew McConaughey\", \"Anne Hathaway\", and \"Jessica Chastain\".\n",
        "2. Retrieve Movie Details: Display the details of \"Inception\".\n",
        "3. Update a Movie: Update \"The Matrix\" to include \"Hugo Weaving\" in the list of main actors.\n",
        "4. Remove a Movie: Remove \"The Shawshank Redemption\" from the database."
      ],
      "metadata": {
        "id": "v04U6nwUPHS5"
      }
    },
    {
      "cell_type": "code",
      "source": [
        "# TODO"
      ],
      "metadata": {
        "id": "gl9cphZ-QSO_"
      },
      "execution_count": null,
      "outputs": []
    },
    {
      "cell_type": "markdown",
      "source": [
        "### Loops\n",
        "- For : used to iterate over a sequence\n",
        "- While : executes as long as a condition remains true\n",
        "\n",
        "`range(start, stop, step=1)`\n",
        "\n",
        "Rather than being a function, range is actually an immutable sequence type\n",
        "\n"
      ],
      "metadata": {
        "id": "KhbKQ6Ir8VC0"
      }
    },
    {
      "cell_type": "code",
      "source": [
        "for element in range(10):\n",
        "  print(element)"
      ],
      "metadata": {
        "id": "6YGDkjzU8VRK"
      },
      "execution_count": null,
      "outputs": []
    },
    {
      "cell_type": "code",
      "source": [
        "for element in range(2, 20, 3):\n",
        "  print(element)"
      ],
      "metadata": {
        "id": "vl_DsyBO8x9u"
      },
      "execution_count": null,
      "outputs": []
    },
    {
      "cell_type": "code",
      "source": [
        "for letter in \"Hello World\":\n",
        "  print(letter)"
      ],
      "metadata": {
        "id": "CkCBsZw984Ip"
      },
      "execution_count": null,
      "outputs": []
    },
    {
      "cell_type": "code",
      "source": [
        "for element in [\"one\", \"two\", \"three\"]:\n",
        "  print(element)"
      ],
      "metadata": {
        "id": "JPXOFCjs9CgW"
      },
      "execution_count": null,
      "outputs": []
    },
    {
      "cell_type": "code",
      "source": [
        "my_dict = {\"Data\" : \"SQL, Pandas, ...\", \"Programming\" : \"Python, JS, ...\", \"AI\" : \"Computer Vision, NLP, ...\"}\n",
        "\n",
        "for key, val in my_dict.items():\n",
        "  print(key, val)"
      ],
      "metadata": {
        "colab": {
          "base_uri": "https://localhost:8080/"
        },
        "id": "pQ6fxmcs9LlZ",
        "outputId": "5b748ab0-f076-43d7-9dbd-9c004c7a6305"
      },
      "execution_count": null,
      "outputs": [
        {
          "output_type": "stream",
          "name": "stdout",
          "text": [
            "Data SQL, Pandas, ...\n",
            "Programming Python, JS, ...\n",
            "AI Computer Vision, NLP, ...\n"
          ]
        }
      ]
    },
    {
      "cell_type": "code",
      "source": [
        "for key in my_dict.keys():\n",
        "  print(key)"
      ],
      "metadata": {
        "colab": {
          "base_uri": "https://localhost:8080/"
        },
        "id": "Xc1oj5-C9weX",
        "outputId": "6e88332d-ac50-42a8-c711-a575d28ee97c"
      },
      "execution_count": null,
      "outputs": [
        {
          "output_type": "stream",
          "name": "stdout",
          "text": [
            "Data\n",
            "Programming\n",
            "AI\n"
          ]
        }
      ]
    },
    {
      "cell_type": "code",
      "source": [
        "for val in my_dict.values():\n",
        "  print(val)"
      ],
      "metadata": {
        "colab": {
          "base_uri": "https://localhost:8080/"
        },
        "id": "Wg3PKea19wo1",
        "outputId": "79a153e5-16d5-49fd-b3e7-7dc200145a11"
      },
      "execution_count": null,
      "outputs": [
        {
          "output_type": "stream",
          "name": "stdout",
          "text": [
            "SQL, Pandas, ...\n",
            "Python, JS, ...\n",
            "Computer Vision, NLP, ...\n"
          ]
        }
      ]
    },
    {
      "cell_type": "markdown",
      "source": [
        "## Exercise\n",
        "\n",
        "Using a for loop, print out all the even numbers from 1 to 20."
      ],
      "metadata": {
        "id": "tD1894QwMbwM"
      }
    },
    {
      "cell_type": "code",
      "source": [
        "# TODO"
      ],
      "metadata": {
        "id": "ofe52G96Mb7C"
      },
      "execution_count": null,
      "outputs": []
    },
    {
      "cell_type": "markdown",
      "source": [
        "### Exercise\n",
        "\n",
        "Create a new list containing only the strings that have a length greater than 5"
      ],
      "metadata": {
        "id": "NIwftirVMXa-"
      }
    },
    {
      "cell_type": "code",
      "source": [
        "# TODO"
      ],
      "metadata": {
        "id": "DIW_qj0DMarX"
      },
      "execution_count": null,
      "outputs": []
    },
    {
      "cell_type": "code",
      "source": [
        "counter = 0\n",
        "\n",
        "while counter < 10:\n",
        "  print(\"Hello\", counter)\n",
        "  counter +=1 # warning: infinite loop if we remove this line"
      ],
      "metadata": {
        "id": "HFEk-qxGdpdu"
      },
      "execution_count": null,
      "outputs": []
    },
    {
      "cell_type": "markdown",
      "source": [
        "### Guessing Game Exercise\n",
        "\n",
        "**Scenario:** Let's create a simple guessing game. The program randomly selects a number between 1 and 10. The user then has to guess the number. The game continues looping until the user correctly guesses the number.\n",
        "\n",
        "**Tasks:**\n",
        "1. The program generates a random number between 1 and 10.\n",
        "2. Prompt the user to guess the number.\n",
        "3. Use a while loop to continue prompting the user until they guess correctly.\n",
        "4. Provide feedback after each guess if it's too high or too low.\n",
        "5. Once the user guesses correctly, congratulate them and display the number of attempts it took."
      ],
      "metadata": {
        "id": "b22sk8PbM1I0"
      }
    },
    {
      "cell_type": "code",
      "source": [
        "import random\n",
        "\n",
        "# 1. Generate a random number between 1 and 10\n",
        "number_to_guess = # TODO\n",
        "\n",
        "# Initial prompt for the user\n",
        "guess = # TODO\n",
        "\n",
        "# Initialize a counter for the number of attempts\n",
        "attempts = # TODO\n",
        "\n",
        "# 3. Use a while loop for the guessing game\n",
        "while # TODO\n",
        "    # Provide feedback\n",
        "    if # TODO\n",
        "        print(\"Too low!\")\n",
        "    else:\n",
        "        print(\"Too high!\")\n",
        "\n",
        "    # Prompt the user again and update the attempts counter\n",
        "    guess = # TODO\n",
        "    attempts += 1\n",
        "\n",
        "# 5. Congratulate the user and display the number of attempts\n",
        "print(f\"Congratulations! You've guessed the number {number_to_guess} correctly in {attempts} attempts!\")\n"
      ],
      "metadata": {
        "id": "Y8kZbf8bM1S_"
      },
      "execution_count": null,
      "outputs": []
    },
    {
      "cell_type": "markdown",
      "source": [
        "## This prep-work is made by Nao\n",
        "\n",
        "![Image](https://static.wixstatic.com/media/88463b_6acd47501fd14d259dcc161a4886b5be~mv2.png/v1/fill/w_442,h_178,al_c,q_85,usm_0.66_1.00_0.01,enc_auto/1trans_logo_nao.png)\n",
        "\n",
        "\n",
        "www.nao.school\n",
        "\n",
        "---"
      ],
      "metadata": {
        "id": "KG1MXxoFx29h"
      }
    }
  ]
}